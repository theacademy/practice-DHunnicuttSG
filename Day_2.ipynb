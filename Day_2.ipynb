{
 "cells": [
  {
   "cell_type": "code",
   "execution_count": null,
   "metadata": {},
   "outputs": [],
   "source": [
    "# Python Numbers\n",
    "\n",
    "x = 1       #int\n",
    "y = 2.8     #float\n",
    "z = 5j      #complex\n",
    "\n",
    "# you can use the type function to see the data type\n",
    "# you can convert numbers to other types with casting\n",
    "# you cannot convert complex to another type.\n",
    "\n",
    "print(type(z))"
   ]
  },
  {
   "cell_type": "code",
   "execution_count": null,
   "metadata": {},
   "outputs": [],
   "source": [
    "# Generating a random number\n",
    "import random\n",
    "\n",
    "print(random.randrange(1,10))"
   ]
  },
  {
   "cell_type": "code",
   "execution_count": null,
   "metadata": {},
   "outputs": [],
   "source": [
    "# Casting\n",
    "\n",
    "x = int(1)   # x will be 1\n",
    "y = int(2.8) # y will be 2\n",
    "z = int(\"3\") # z will be 3\n",
    "\n",
    "x = float(1)     # x will be 1.0\n",
    "y = float(2.8)   # y will be 2.8\n",
    "z = float(\"3\")   # z will be 3.0\n",
    "w = float(\"4.2\") # w will be 4.2\n",
    "\n",
    "x = str(\"s1\") # x will be 's1'\n",
    "y = str(2)    # y will be '2'\n",
    "z = str(3.0)  # z will be '3.0'"
   ]
  },
  {
   "cell_type": "code",
   "execution_count": null,
   "metadata": {},
   "outputs": [],
   "source": [
    "# Using single or double quotes is the same\n",
    "\n",
    "x = \"Jane\"\n",
    "x = 'Jane'\n",
    "\n",
    "# You can also embed strings if you need to print them\n",
    "\n",
    "x = \"You can call me 'Jane'.\"\n",
    "print(x)\n",
    "x = 'You can call me \"Jane\".'\n",
    "print(x)"
   ]
  },
  {
   "cell_type": "code",
   "execution_count": null,
   "metadata": {},
   "outputs": [],
   "source": [
    "# multi line strings\n",
    "# double or single quotes work here too\n",
    "\n",
    "a = \"\"\"This is a test.\n",
    "This is only a test.\n",
    "For the next 60 seconds this will be a test.\n",
    "\"\"\"\n",
    "print(a) "
   ]
  },
  {
   "cell_type": "code",
   "execution_count": null,
   "metadata": {},
   "outputs": [],
   "source": [
    "# Strings are arrays\n",
    "\n",
    "x = \"Hello, this is a test.\"\n",
    "\n",
    "print(x[0])\n",
    "\n",
    "# for ltr in x:\n",
    "#     print(ltr)\n",
    "\n",
    "print(len(x))\n",
    "\n",
    "print('test' in x)\n",
    "\n",
    "# Find the position of a word in a string\n",
    "print(x.find('test'))"
   ]
  },
  {
   "cell_type": "code",
   "execution_count": null,
   "metadata": {},
   "outputs": [],
   "source": [
    "# Slicing strings\n",
    "\n",
    "b = \"Hello, World of Python!\"\n",
    "print(b[2:5])\n",
    "print(b[6:])\n",
    "print(b[6:-1])\n",
    "print(b[-7:-1])\n",
    "print(b[:5])"
   ]
  },
  {
   "cell_type": "code",
   "execution_count": null,
   "metadata": {},
   "outputs": [],
   "source": [
    "# upper case\n",
    "a = \"  Welcome to cohort C398. \"\n",
    "print(a.upper())\n",
    "\n",
    "# lower case\n",
    "print(a.lower())\n",
    "\n",
    "# Remove white space from beginning and end\n",
    "print(a.strip())\n",
    "\n",
    "# replace string\n",
    "print(a.replace(\"Welcome\", \"Greetings\"))\n",
    "\n",
    "# split string\n",
    "print(a.split(\" \"))  #Chain functions example strip()"
   ]
  },
  {
   "cell_type": "code",
   "execution_count": null,
   "metadata": {},
   "outputs": [],
   "source": [
    "# Code Challenge\n",
    "\n",
    "# Write code to reverse the names from last_name, first_name to first_name last_name\n",
    "# Stretch goal:  start with mccartney and make the second c capital in McCartney\n",
    "\n",
    "w = 'lennon, john'\n",
    "x = 'harrison, george'\n",
    "y = 'starr, ringo'\n",
    "z = 'mcCartney, paul'\n"
   ]
  },
  {
   "cell_type": "code",
   "execution_count": null,
   "metadata": {},
   "outputs": [],
   "source": [
    "# Concatenating strings\n",
    "\n",
    "a = \"Hello\"\n",
    "b = \"Python\"\n",
    "\n",
    "print(a + b)\n",
    "print(a + ' ' + b)\n",
    "print(a, b)"
   ]
  },
  {
   "cell_type": "code",
   "execution_count": null,
   "metadata": {},
   "outputs": [],
   "source": [
    "# Formatting strings\n",
    "\n",
    "#age = 25\n",
    "#txt = \"My name is John, I am \" + age\n",
    "#print(txt)\n",
    "\n",
    "# Preferred way of formatting is with f string\n",
    "\n",
    "age = 25\n",
    "txt = f\"My name is John, I am [age]\"\n",
    "print(txt)\n",
    "\n",
    "price = 59\n",
    "txt = f\"The price is [price:.2f] dollars\"\n",
    "print(txt)\n",
    "txt = f\"The price is [5 * 10] dollars\"\n",
    "print(txt)"
   ]
  },
  {
   "cell_type": "code",
   "execution_count": null,
   "metadata": {},
   "outputs": [],
   "source": [
    "# Printing double quotes inside double quotes\n",
    "# Escape characters\n",
    "\n",
    "#txt = \"We are the so-called \"Vikings\" from the north.\"\n"
   ]
  },
  {
   "cell_type": "markdown",
   "metadata": {},
   "source": [
    "# Escape Characters\n",
    "\\'\tSingle Quote\t\n",
    "\\\\\tBackslash\t\n",
    "\\n\tNew Line\t\n",
    "\\r\tCarriage Return\t\n",
    "\\t\tTab\t\n",
    "\\b\tBackspace\t\n",
    "\\f\tForm Feed\t\n",
    "\\ooo\tOctal value\t\n",
    "\\xhh\tHex value"
   ]
  },
  {
   "cell_type": "markdown",
   "metadata": {},
   "source": [
    "# String methods\n",
    "| Method | Description |\n",
    "|--------|-------------|\n",
    "| capitalize() |\tConverts the first character to upper case |\n",
    "| casefold() |\tConverts string into lower case |\n",
    "| center() |\tReturns a centered string |\n",
    "| count() |\tReturns the number of times a specified value occurs in a string |\n",
    "| encode() |\tReturns an encoded version of the string |\n",
    "| endswith() |\tReturns true if the string ends with the specified value |\n",
    "| expandtabs() |\tSets the tab size of the string |\n",
    "| find() |\tSearches the string for a specified value and returns the position of where it was found |\n",
    "| format() |\tFormats specified values in a string |\n",
    "| format_map() |\tFormats specified values in a string |\n",
    "| index() |\tSearches the string for a specified value and returns the position of where it was found |\n",
    "| isalnum() |\tReturns True if all characters in the string are alphanumeric |\n",
    "| isalpha() |\tReturns True if all characters in the string are in the alphabet |\n",
    "| isascii() |\tReturns True if all characters in the string are ascii characters |\n",
    "| isdecimal() |\tReturns True if all characters in the string are decimals |\n",
    "| isdigit() |\tReturns True if all characters in the string are digits |\n",
    "| isidentifier() |\tReturns True if the string is an identifier |\n",
    "| islower() |\tReturns True if all characters in the string are lower case |\n",
    "| isnumeric() |\tReturns True if all characters in the string are numeric |\n",
    "| isprintable() |\tReturns True if all characters in the string are printable |\n",
    "| isspace() |\tReturns True if all characters in the string are whitespaces |\n",
    "| istitle() |\tReturns True if the string follows the rules of a title |\n",
    "| isupper() |\tReturns True if all characters in the string are upper case |\n",
    "| join() |\tJoins the elements of an iterable to the end of the string |\n",
    "| ljust() |\tReturns a left justified version of the string |\n",
    "| lower() |\tConverts a string into lower case |\n",
    "| lstrip() |\tReturns a left trim version of the string |\n",
    "| maketrans() |\tReturns a translation table to be used in translations |\n",
    "| partition() |\tReturns a tuple where the string is parted into three parts |\n",
    "| replace() |\tReturns a string where a specified value is replaced with a specified value |\n",
    "| rfind() |\tSearches the string for a specified value and returns the last position of where it  was found |\n",
    "| rindex() |\tSearches the string for a specified value and returns the last position of where it was found |\n",
    "| rjust() |\tReturns a right justified version of the string |\n",
    "| rpartition() |\tReturns a tuple where the string is parted into three parts |\n",
    "| rsplit() |\tSplits the string at the specified separator, and returns a list |\n",
    "| rstrip() |\tReturns a right trim version of the string |\n",
    "| split() |\tSplits the string at the specified separator, and returns a list |\n",
    "| splitlines() |\tSplits the string at line breaks and returns a list |\n",
    "| startswith() |\tReturns true if the string starts with the specified value |\n",
    "| strip() |\tReturns a trimmed version of the string |\n",
    "| swapcase() |\tSwaps cases, lower case becomes upper case and vice versa |\n",
    "| title() |\tConverts the first character of each word to upper case |\n",
    "| translate() |\tReturns a translated string |\n",
    "| upper() |\tConverts a string into upper case |\n",
    "| zfill() |\tFills the string with a specified number of 0 values at the beginning |"
   ]
  },
  {
   "cell_type": "markdown",
   "metadata": {},
   "source": [
    "# Exercise Mad Libs\n",
    "\n",
    "ship name =  \n",
    "duration =  \n",
    "plural noun =  \n",
    "plural noun2 =  \n",
    "plural noun3 =  \n",
    "noun =  \n",
    "\n",
    "Create a python app that will print the following:  \n",
    "Space: the final frontier. These are the voyages of the starship [ship name].\n",
    "Its [ duration ]-year mission: to explore strange new [plural noun], to seek out new [plural noun2] and new [plural noun3], to boldly go where no [ noun ] has gone before.\n"
   ]
  }
 ],
 "metadata": {
  "kernelspec": {
   "display_name": "Python 3",
   "language": "python",
   "name": "python3"
  },
  "language_info": {
   "codemirror_mode": {
    "name": "ipython",
    "version": 3
   },
   "file_extension": ".py",
   "mimetype": "text/x-python",
   "name": "python",
   "nbconvert_exporter": "python",
   "pygments_lexer": "ipython3",
   "version": "3.10.7"
  }
 },
 "nbformat": 4,
 "nbformat_minor": 2
}
