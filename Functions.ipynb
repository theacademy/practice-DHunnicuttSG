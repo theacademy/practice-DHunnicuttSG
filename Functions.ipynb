{
 "cells": [
  {
   "cell_type": "markdown",
   "metadata": {},
   "source": [
    "## Functions"
   ]
  },
  {
   "cell_type": "code",
   "execution_count": null,
   "metadata": {},
   "outputs": [],
   "source": [
    "# simple function\n",
    "\n",
    "def my_function():\n",
    "  print(\"Hello from a function\")\n",
    "\n",
    "my_function()"
   ]
  },
  {
   "cell_type": "code",
   "execution_count": null,
   "metadata": {},
   "outputs": [],
   "source": [
    "# passing in data to a function\n",
    "\n",
    "def helloThere(x):\n",
    "    print(\"Hello, \" + str(x))\n",
    "\n",
    "helloThere(\"Sam\")\n",
    "helloThere(11)\n",
    "helloThere(\"007\")"
   ]
  },
  {
   "cell_type": "code",
   "execution_count": null,
   "metadata": {},
   "outputs": [],
   "source": [
    "# Arguments are passed into a function\n",
    "# Parameters are what is in the function definition\n",
    "\n",
    "# if the number of parameters is unknown then you can use an * in front of the parameter\n",
    "\n",
    "def siblings(*sibs):\n",
    "    print(f\"My siblings are {', '.join(sibs)}\")\n",
    "\n",
    "siblings(\"Archie\", \"Angela\", \"Danny\")"
   ]
  },
  {
   "cell_type": "code",
   "execution_count": null,
   "metadata": {},
   "outputs": [],
   "source": [
    "# You can also use the key value syntax\n",
    "\n",
    "def sibs(s1, s2, s3):\n",
    "    print(f\"My siblings are {s1}, {s2}, {s3}\")\n",
    "\n",
    "sibs(s1=\"Archie\", s2=\"Angela\", s3=\"Danny\")"
   ]
  },
  {
   "cell_type": "code",
   "execution_count": null,
   "metadata": {},
   "outputs": [],
   "source": [
    "# if the number of keyword parameters is unknown then you can use a ** in front of the parameter\n",
    "\n",
    "def siblings(**sibs):\n",
    "    print(f\"My siblings are {', '.join(sibs.values())}\")\n",
    "\n",
    "siblings(s1=\"Archie\", s2=\"Angela\", s3=\"Danny\")"
   ]
  },
  {
   "cell_type": "code",
   "execution_count": null,
   "metadata": {},
   "outputs": [],
   "source": [
    "# default parameter values\n",
    "\n",
    "def I_am_From(country = \"Jamaica\"):\n",
    "    print(\"I am from \" + country)\n",
    "\n",
    "I_am_From(\"Sweden\")\n",
    "I_am_From(\"America\")\n",
    "I_am_From()\n",
    "I_am_From(\"UK\")"
   ]
  },
  {
   "cell_type": "code",
   "execution_count": null,
   "metadata": {},
   "outputs": [],
   "source": [
    "# Sending a list to a function\n",
    "def my_function(food):\n",
    "  for x in food:\n",
    "    print(x)\n",
    "\n",
    "fruits = [\"apple\", \"banana\", \"cherry\"]\n",
    "\n",
    "my_function(fruits)"
   ]
  },
  {
   "cell_type": "code",
   "execution_count": null,
   "metadata": {},
   "outputs": [],
   "source": [
    "# Return a value\n",
    "\n",
    "def times5(x):\n",
    "    return x * 5\n",
    "\n",
    "print(times5(3))\n",
    "print(times5(10))"
   ]
  },
  {
   "cell_type": "code",
   "execution_count": null,
   "metadata": {},
   "outputs": [],
   "source": [
    "# Positional and keyword parameters\n",
    "# Use a ', /' for positional arguments only\n",
    "\n",
    "def pos_only(x, /):\n",
    "    print(x)\n",
    "\n",
    "pos_only(7)\n",
    "# pos_only(x = 13) # This line will cause an error\n",
    "\n",
    "# without the ', /' you can use keyword args\n",
    "\n",
    "def pos_key(x):\n",
    "    print(x)\n",
    "\n",
    "pos_key(x = 11)\n",
    "\n",
    "# for a keyword only parameters use a * before the parameters\n",
    "\n",
    "def kw_only(*, x):\n",
    "    print(x)\n",
    "\n",
    "#kw_only(5) # throws error\n",
    "kw_only(x = 5)\n"
   ]
  },
  {
   "cell_type": "code",
   "execution_count": null,
   "metadata": {},
   "outputs": [],
   "source": [
    "# combining keyword and positional parameters\n",
    "# any parameter before the `/` are positional only\n",
    "# any parameter after the `*` are keyword only\n",
    "\n",
    "def kw_pos(a, b, /, *, c, d):\n",
    "    print(a + b + c + d)\n",
    "\n",
    "kw_pos(2, 3, c = 8, d = 7)\n"
   ]
  },
  {
   "cell_type": "code",
   "execution_count": null,
   "metadata": {},
   "outputs": [],
   "source": [
    "# recursion example\n",
    "\n",
    "def try_recur(x):\n",
    "    if (x > 0):\n",
    "        result = x + try_recur(x -1)\n",
    "        print(result)\n",
    "    else:\n",
    "        result = 0\n",
    "    return result\n",
    "\n",
    "print(\"\\nRecursion Example Results\\n\")\n",
    "try_recur(5)"
   ]
  }
 ],
 "metadata": {
  "kernelspec": {
   "display_name": "Python 3",
   "language": "python",
   "name": "python3"
  },
  "language_info": {
   "codemirror_mode": {
    "name": "ipython",
    "version": 3
   },
   "file_extension": ".py",
   "mimetype": "text/x-python",
   "name": "python",
   "nbconvert_exporter": "python",
   "pygments_lexer": "ipython3",
   "version": "3.10.7"
  }
 },
 "nbformat": 4,
 "nbformat_minor": 2
}
