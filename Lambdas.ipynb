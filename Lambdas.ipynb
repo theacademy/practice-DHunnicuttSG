{
 "cells": [
  {
   "cell_type": "markdown",
   "metadata": {},
   "source": [
    "# Lambdas"
   ]
  },
  {
   "cell_type": "code",
   "execution_count": null,
   "metadata": {},
   "outputs": [],
   "source": [
    "# Lambda functions are small anonymous functions that can take \n",
    "# any number of parameters but on have one expression\n",
    "\n",
    "# syntax:  lambda arguments : expression\n",
    "\n",
    "# multiply a number by 3\n",
    "\n",
    "x = lambda a: a * 3\n",
    "print(x(5))\n",
    "\n",
    "# lambdas can take multiple arguments\n",
    "\n",
    "y = lambda a, b : a * b\n",
    "print(y(2,7))\n",
    "\n",
    "z = lambda a, b, c : a + b * c\n",
    "print(z(3,4,2))\n",
    "\n",
    "# suppose you want to write a function that will double or triple what you send \n",
    "# depending on the situation\n",
    "\n",
    "def myLambda(n):\n",
    "  return lambda a : a * n\n",
    "\n",
    "double_me = myLambda(2)\n",
    "print(double_me(5))\n",
    "\n",
    "triple_me = myLambda(3)\n",
    "print(triple_me(10))\n"
   ]
  }
 ],
 "metadata": {
  "kernelspec": {
   "display_name": "Python 3",
   "language": "python",
   "name": "python3"
  },
  "language_info": {
   "codemirror_mode": {
    "name": "ipython",
    "version": 3
   },
   "file_extension": ".py",
   "mimetype": "text/x-python",
   "name": "python",
   "nbconvert_exporter": "python",
   "pygments_lexer": "ipython3",
   "version": "3.10.7"
  }
 },
 "nbformat": 4,
 "nbformat_minor": 2
}
