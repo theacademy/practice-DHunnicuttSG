{
 "cells": [
  {
   "cell_type": "markdown",
   "metadata": {},
   "source": [
    "## Inheritance"
   ]
  },
  {
   "cell_type": "code",
   "execution_count": 6,
   "metadata": {},
   "outputs": [
    {
     "name": "stdout",
     "output_type": "stream",
     "text": [
      "John Doe\n",
      "Ada Lovelace\n"
     ]
    }
   ],
   "source": [
    "'''Allows you to define a class that inherits all the methods and properties\n",
    "from another class.\n",
    "Parent class: The class being inherited, also called the base class or super class\n",
    "Child class: The class that inherits from another class, also called the derived class or sub class\n",
    "'''\n",
    "\n",
    "class Person:\n",
    "  def __init__(self, fname, lname):\n",
    "    self.firstname = fname\n",
    "    self.lastname = lname\n",
    "\n",
    "  def printName(self):\n",
    "    print(self.firstname, self.lastname)\n",
    "\n",
    "x = Person(\"John\", \"Doe\")\n",
    "x.printName()\n",
    "\n",
    "\n",
    "class Student(Person):\n",
    "    pass\n",
    "\n",
    "y = Student(\"Ada\", \"Lovelace\")\n",
    "y.printName()\n"
   ]
  },
  {
   "cell_type": "code",
   "execution_count": 9,
   "metadata": {},
   "outputs": [
    {
     "name": "stdout",
     "output_type": "stream",
     "text": [
      "John Doe\n",
      "Welcome Jane Doe to the class of 2024\n"
     ]
    }
   ],
   "source": [
    "class Person:\n",
    "  def __init__(self, fname, lname):\n",
    "    self.firstname = fname\n",
    "    self.lastname = lname\n",
    "\n",
    "  def printName(self):\n",
    "    print(self.firstname, self.lastname)\n",
    "\n",
    "x = Person(\"John\", \"Doe\")\n",
    "x.printName()\n",
    "\n",
    "\n",
    "class Student(Person):\n",
    "    def __init__(self, fname, lname, year):\n",
    "       \n",
    "       super().__init__(fname, lname)   # Person.__init__(self, fname, lname)\n",
    "       self.graduationYear = year\n",
    "\n",
    "    def welcome(self):\n",
    "       print(\"Welcome\", self.firstname, self.lastname, \"to the class of\", self.graduationYear)\n",
    "\n",
    "x = Student(\"Jane\", \"Doe\", 2024)\n",
    "x.welcome()\n"
   ]
  },
  {
   "cell_type": "code",
   "execution_count": 12,
   "metadata": {},
   "outputs": [
    {
     "name": "stdout",
     "output_type": "stream",
     "text": [
      "Fluffy\n",
      "Barkley Woof\n"
     ]
    }
   ],
   "source": [
    "class Animal():\n",
    "    def __init__(self, AnimalName, sound):\n",
    "        self.AnimalName = AnimalName\n",
    "        self.sound = sound\n",
    "\n",
    "class Cat(Animal):\n",
    "    pass\n",
    "\n",
    "myCat = Cat(\"Fluffy\", \"meow\")\n",
    "\n",
    "print(myCat.AnimalName)\n",
    "\n",
    "class Dog(Animal):\n",
    "    pass\n",
    "\n",
    "myDog = Dog(\"Barkley\", \"Woof\")\n",
    "\n",
    "print(myDog.AnimalName,myDog.sound)"
   ]
  }
 ],
 "metadata": {
  "kernelspec": {
   "display_name": "Python 3",
   "language": "python",
   "name": "python3"
  },
  "language_info": {
   "codemirror_mode": {
    "name": "ipython",
    "version": 3
   },
   "file_extension": ".py",
   "mimetype": "text/x-python",
   "name": "python",
   "nbconvert_exporter": "python",
   "pygments_lexer": "ipython3",
   "version": "3.10.7"
  }
 },
 "nbformat": 4,
 "nbformat_minor": 2
}
