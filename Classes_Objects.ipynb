{
 "cells": [
  {
   "cell_type": "markdown",
   "metadata": {},
   "source": [
    "# Classes and Objects"
   ]
  },
  {
   "cell_type": "code",
   "execution_count": null,
   "metadata": {},
   "outputs": [],
   "source": [
    "# Create a class\n",
    "\n",
    "class MyClass:\n",
    "    x = 7\n",
    "    y = 2\n",
    "\n",
    "# instantiate the class\n",
    "\n",
    "obj1 = MyClass()\n",
    "print(obj1.x, obj1.y)"
   ]
  },
  {
   "cell_type": "code",
   "execution_count": null,
   "metadata": {},
   "outputs": [],
   "source": [
    "# the __init__ function of a class is called when the class is instantiated.  \n",
    "# It is basically the class constructor\n",
    "# The first parameter of this method needs to be THIS\n",
    "# For you java programmers:  THIS is similar to the 'this' keyword\n",
    "\n",
    "class Person:\n",
    "    def __init__(self, name, age):\n",
    "        self.name = name\n",
    "        self.age = age\n",
    "\n",
    "p1 = Person(\"Anne\", 21)\n",
    "p2 = Person(\"Joe\", 22)\n",
    "\n",
    "print(p1.name, p1.age)\n",
    "print(p2.name, p2.age)\n",
    "\n",
    "# without the __str__ function the print looks like:\n",
    "print(p1) # you will print the memory location of the object \n",
    "print(p2)"
   ]
  },
  {
   "cell_type": "code",
   "execution_count": null,
   "metadata": {},
   "outputs": [],
   "source": [
    "# The __str__ function\n",
    "# in java the __str__ method is equivalent to overriding the toString() method\n",
    "\n",
    "class Person:\n",
    "    def __init__(self, name, age):\n",
    "        self.name = name\n",
    "        self.age = age\n",
    "\n",
    "    def __str__(self):\n",
    "        return f\"{self.name} ({self.age})\"\n",
    "\n",
    "p1 = Person(\"Anne\", 21)\n",
    "p2 = Person(\"Joe\", 22)\n",
    "\n",
    "print(p1)\n",
    "print(p2) \n"
   ]
  },
  {
   "cell_type": "code",
   "execution_count": null,
   "metadata": {},
   "outputs": [],
   "source": [
    "# Adding methods / functions to the class\n",
    "class Person:\n",
    "    def __init__(self, name, age):\n",
    "        self.name = name\n",
    "        self.age = age\n",
    "\n",
    "    def __str__(self):\n",
    "        return f\"{self.name} ({self.age})\"\n",
    "\n",
    "    def sayHello(self):\n",
    "        print(\"Hello, my name is \" + self.name + \". I am \" + str(self.age) + \" years old.\")\n",
    "\n",
    "p1 = Person(\"Anne\", 21)\n",
    "p2 = Person(\"Joe\", 22)\n",
    "\n",
    "p1.sayHello()\n",
    "p2.sayHello()"
   ]
  },
  {
   "cell_type": "markdown",
   "metadata": {},
   "source": [
    "### The self Parameter\n",
    "\n",
    "- The self parameter is a reference to the current instance of the class, and is used to access variables that belong to that class.\n",
    "\n",
    "- You do not need to use the word self but it is the currently used convention. You could use any parameter you like. However, it must be the first parameter of any function in the class."
   ]
  },
  {
   "cell_type": "code",
   "execution_count": null,
   "metadata": {},
   "outputs": [],
   "source": [
    "# Replacing self with another parameter\n",
    "\n",
    "class Person:\n",
    "    def __init__(This, name, age):\n",
    "        This.name = name\n",
    "        This.age = age\n",
    "\n",
    "    def __str__(This):\n",
    "        return f\"{This.name} ({This.age})\"\n",
    "\n",
    "    def sayHello(This):\n",
    "        print(\"Hello, my name is \" + This.name + \". I am \" + str(This.age) + \" years old.\")\n",
    "\n",
    "p1 = Person(\"Anne\", 21)\n",
    "p2 = Person(\"Joe\", 22)\n",
    "\n",
    "p1.sayHello()\n",
    "p2.sayHello()"
   ]
  },
  {
   "cell_type": "code",
   "execution_count": null,
   "metadata": {},
   "outputs": [],
   "source": [
    "# modifying object and object properties\n",
    "\n",
    "class Person:\n",
    "    phone = \"\"\n",
    "    email = \"\"\n",
    "\n",
    "    def __init__(self, name, age):\n",
    "        self.name = name\n",
    "        self.age = age\n",
    "\n",
    "    def __str__(self):\n",
    "        return f\"{self.name} ({self.age})\"\n",
    "\n",
    "    def sayHello(self):\n",
    "        print(\"Hello, my name is \" + self.name + \". I am \" + str(self.age) + \" years old.\")\n",
    "\n",
    "p1 = Person(\"Anne\", 21)\n",
    "p2 = Person(\"Joe\", 22)\n",
    "\n",
    "p1.phone = \"812-555-1234\"\n",
    "print(p1.phone)\n",
    "\n",
    "del p1.phone\n",
    "print(p1.phone)\n",
    "\n",
    "p1.phone = \"home\"\n",
    "print(p1.phone)\n",
    "\n",
    "# delete an object\n",
    "# del p1\n",
    "\n",
    "p1.sayHello()"
   ]
  },
  {
   "cell_type": "code",
   "execution_count": 10,
   "metadata": {},
   "outputs": [],
   "source": [
    "# The pass statement\n",
    "# class defs cannot be empty. Use the pass statement to avoid an error\n",
    "\n",
    "class Person:\n",
    "    pass\n"
   ]
  }
 ],
 "metadata": {
  "kernelspec": {
   "display_name": "Python 3",
   "language": "python",
   "name": "python3"
  },
  "language_info": {
   "codemirror_mode": {
    "name": "ipython",
    "version": 3
   },
   "file_extension": ".py",
   "mimetype": "text/x-python",
   "name": "python",
   "nbconvert_exporter": "python",
   "pygments_lexer": "ipython3",
   "version": "3.10.7"
  }
 },
 "nbformat": 4,
 "nbformat_minor": 2
}
