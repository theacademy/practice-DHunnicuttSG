{
 "cells": [
  {
   "cell_type": "markdown",
   "metadata": {},
   "source": [
    "## Python Day 1"
   ]
  },
  {
   "cell_type": "code",
   "execution_count": null,
   "metadata": {},
   "outputs": [],
   "source": [
    "# comment\n",
    "\n",
    "\"\"\"This \n",
    "is \n",
    "a \n",
    "multi line \n",
    "comment\n",
    "\"\"\"\n",
    "\n",
    "import sys\n",
    "import math\n",
    "# from math import cos\n",
    "\n",
    "\n",
    "print(\"hello world!\")\n",
    "\n",
    "print(sys.version)\n",
    "print(math.sqrt(81))\n"
   ]
  },
  {
   "cell_type": "code",
   "execution_count": null,
   "metadata": {},
   "outputs": [],
   "source": [
    "# Syntax code blocks\n",
    "\n",
    "if 5 < 2:\n",
    "    print(\"nope\")\n",
    "else:\n",
    "    print(\"yep\")\n",
    "    print(\"test\")"
   ]
  },
  {
   "cell_type": "code",
   "execution_count": null,
   "metadata": {},
   "outputs": [],
   "source": [
    "# Variables\n",
    "\n",
    "x = 5\n",
    "Y = 4.2\n",
    "z = False\n",
    "\n",
    "# x = \"Sam\"\n",
    "\n",
    "print(f\"This is a test {x} \")"
   ]
  },
  {
   "cell_type": "code",
   "execution_count": null,
   "metadata": {},
   "outputs": [],
   "source": [
    "x = float(5)\n",
    "y = str(4.2)\n",
    "z = bool(0)\n",
    "\n",
    "print(type(x))\n",
    "print(y)\n",
    "print(z)"
   ]
  },
  {
   "cell_type": "code",
   "execution_count": null,
   "metadata": {},
   "outputs": [],
   "source": [
    "# naming conventions\n",
    "\n",
    "myvar = \"John\"\n",
    "my_var = \"John\"\n",
    "_my_var = \"John\"\n",
    "myVar = \"John\"\n",
    "MYVAR = \"John\"\n",
    "myvar2 = \"John\"\n",
    "\n",
    "# Camel Case\n",
    "myNameIsJohn = \"John\"\n",
    "\n",
    "# Pascal Case\n",
    "MyNameIsJohn = \"John\"\n",
    "\n",
    "# Snake Case\n",
    "my_name_is_john = \"John\"\n",
    "\n",
    "# incorrect \n",
    "# 2This_Test\n",
    "# my-var\n",
    "# my var\n",
    "\n",
    "x, y, z = \"Orange\", \"Apple\", 'Banana'\n",
    "print(x)\n",
    "print(y)\n",
    "print(z)\n",
    "print('')\n",
    "x = y = z = 'Orange'\n",
    "print(x)\n",
    "print(y)\n",
    "print(z)\n",
    "print('')\n",
    "\n",
    "Fruits = [\"Orange\", \"Apple\", 'Banana']\n",
    "x, y, z = Fruits\n",
    "\n",
    "print(x)\n",
    "print(y)\n",
    "print(z)\n",
    "print('')\n",
    "\n",
    "print(x,y,z)\n",
    "print(x + y + z)\n"
   ]
  },
  {
   "cell_type": "code",
   "execution_count": null,
   "metadata": {},
   "outputs": [],
   "source": [
    "x = 5\n",
    "y = 'John'\n",
    "\n",
    "print(x, y)\n",
    "# print(y + x) "
   ]
  },
  {
   "cell_type": "code",
   "execution_count": null,
   "metadata": {},
   "outputs": [],
   "source": [
    "# Variables and scope\n",
    "\n",
    "x = 'cool'\n",
    "\n",
    "def myMethod():\n",
    "    global x\n",
    "    x = 'awesome'\n",
    "    print('Python is ' + x)\n",
    "\n",
    "myMethod()\n",
    "print('Python is ' + x)"
   ]
  },
  {
   "cell_type": "code",
   "execution_count": null,
   "metadata": {},
   "outputs": [],
   "source": [
    "# Data Types\n",
    "\n",
    "#x = \"Hello World\"                   \t        #str\t\n",
    "#x = 20\t                                        #int\t\n",
    "#x = 20.5\t                                    #float\t\n",
    "#x = 1j\t                                        #complex\t\n",
    "#x = [\"apple\", \"banana\", \"cherry\"]\t            #list\t\n",
    "#x = (\"apple\", \"banana\", \"cherry\")\t            #tuple\t\n",
    "#x = range(6)\t                                #range\t\n",
    "#x = {\"name\" : \"John\", \"age\" : 36}\t            #dict\t\n",
    "#x = {\"apple\", \"banana\", \"cherry\"}\t            #set\t\n",
    "#x = frozenset({\"apple\", \"banana\", \"cherry\"})\t#frozenset\t\n",
    "#x = True\t                                    #bool\ttry bool(5) and bool(not(5))\n",
    "#x = memoryview(bytes(5))\t                    #memoryview\t\n",
    "#x = None\t                                    #NoneType\n",
    "\n",
    "print(x)"
   ]
  },
  {
   "cell_type": "code",
   "execution_count": null,
   "metadata": {},
   "outputs": [],
   "source": [
    "x = 3 + 2j\n",
    "y = float(x)\n",
    "print(y)"
   ]
  },
  {
   "cell_type": "code",
   "execution_count": null,
   "metadata": {},
   "outputs": [],
   "source": [
    "import random\n",
    "\n",
    "print(random.randrange(1,21))\n",
    "\n"
   ]
  },
  {
   "cell_type": "code",
   "execution_count": null,
   "metadata": {},
   "outputs": [],
   "source": [
    "# multi line strings\n",
    "# double or single quotes work here too\n",
    "\n",
    "a = \"\"\"This is a test.\n",
    "This is only a test.\n",
    "For the next 60 seconds this will be a test.\n",
    "\"\"\"\n",
    "a = \"This is a test.\\n\"\n",
    "b = \"This is only a test.\\n\"\n",
    "c = \"For the next 60 seconds this will be a test.\\n\"\n",
    "\n",
    "print(a, b, c)\n"
   ]
  },
  {
   "cell_type": "code",
   "execution_count": 72,
   "metadata": {},
   "outputs": [
    {
     "name": "stdout",
     "output_type": "stream",
     "text": [
      "10\n"
     ]
    }
   ],
   "source": [
    "a = \"This is a test.\\n\"\n",
    "b = \"This is only a test.\\n\"\n",
    "c = \"For the next 60 seconds this will be a test.\\n\"\n",
    "\n",
    "# for ltr in a:\n",
    "#     print(ltr)\n",
    "\n",
    "print(a.find(\"test\"))"
   ]
  },
  {
   "cell_type": "code",
   "execution_count": 73,
   "metadata": {},
   "outputs": [
    {
     "name": "stdout",
     "output_type": "stream",
     "text": [
      "llo\n",
      " World of Python!\n",
      " World of Python\n",
      "Python\n",
      "Hello\n"
     ]
    }
   ],
   "source": [
    "# Slicing strings\n",
    "\n",
    "b = \"Hello, World of Python!\"\n",
    "print(b[2:5])\n",
    "print(b[6:])\n",
    "print(b[6:-1])\n",
    "print(b[-7:-1])\n",
    "print(b[:5])"
   ]
  },
  {
   "cell_type": "code",
   "execution_count": 75,
   "metadata": {},
   "outputs": [
    {
     "name": "stdout",
     "output_type": "stream",
     "text": [
      "  WELCOME TO COHORT C398. \n",
      "  welcome to cohort c398. \n",
      "Welcome to cohort C398.\n",
      "  Greetings to cohort C398. \n",
      "['Welcome', 'to', 'cohort', 'C398.']\n"
     ]
    }
   ],
   "source": [
    "# upper case\n",
    "a = \"  Welcome to cohort C398. \"\n",
    "print(a.upper())\n",
    "\n",
    "# lower case\n",
    "print(a.lower())\n",
    "\n",
    "# Remove white space from beginning and end\n",
    "print(a.strip())\n",
    "\n",
    "# replace string\n",
    "print(a.replace(\"Welcome\", \"Greetings\"))\n",
    "\n",
    "# split string\n",
    "print(a.strip().split(\" \"))  #Chain functions example strip()"
   ]
  },
  {
   "cell_type": "code",
   "execution_count": null,
   "metadata": {},
   "outputs": [],
   "source": [
    "# Code Challenge\n",
    "\n",
    "# Write code to reverse the names from last_name, first_name to first_name last_name\n",
    "# Stretch goal:  start with mccartney and make the second c capital in McCartney\n",
    "\n",
    "w = 'lennon, john'\n",
    "x = 'harrison, george'\n",
    "y = 'starr, ringo'\n",
    "z = 'mccartney, paul'"
   ]
  },
  {
   "cell_type": "markdown",
   "metadata": {},
   "source": [
    "# String methods\n",
    "| Method | Description |\n",
    "|--------|-------------|\n",
    "| capitalize() |\tConverts the first character to upper case |\n",
    "| casefold() |\tConverts string into lower case |\n",
    "| center() |\tReturns a centered string |\n",
    "| count() |\tReturns the number of times a specified value occurs in a string |\n",
    "| encode() |\tReturns an encoded version of the string |\n",
    "| endswith() |\tReturns true if the string ends with the specified value |\n",
    "| expandtabs() |\tSets the tab size of the string |\n",
    "| find() |\tSearches the string for a specified value and returns the position of where it was found |\n",
    "| format() |\tFormats specified values in a string |\n",
    "| format_map() |\tFormats specified values in a string |\n",
    "| index() |\tSearches the string for a specified value and returns the position of where it was found |\n",
    "| isalnum() |\tReturns True if all characters in the string are alphanumeric |\n",
    "| isalpha() |\tReturns True if all characters in the string are in the alphabet |\n",
    "| isascii() |\tReturns True if all characters in the string are ascii characters |\n",
    "| isdecimal() |\tReturns True if all characters in the string are decimals |\n",
    "| isdigit() |\tReturns True if all characters in the string are digits |\n",
    "| isidentifier() |\tReturns True if the string is an identifier |\n",
    "| islower() |\tReturns True if all characters in the string are lower case |\n",
    "| isnumeric() |\tReturns True if all characters in the string are numeric |\n",
    "| isprintable() |\tReturns True if all characters in the string are printable |\n",
    "| isspace() |\tReturns True if all characters in the string are whitespaces |\n",
    "| istitle() |\tReturns True if the string follows the rules of a title |\n",
    "| isupper() |\tReturns True if all characters in the string are upper case |\n",
    "| join() |\tJoins the elements of an iterable to the end of the string |\n",
    "| ljust() |\tReturns a left justified version of the string |\n",
    "| lower() |\tConverts a string into lower case |\n",
    "| lstrip() |\tReturns a left trim version of the string |\n",
    "| maketrans() |\tReturns a translation table to be used in translations |\n",
    "| partition() |\tReturns a tuple where the string is parted into three parts |\n",
    "| replace() |\tReturns a string where a specified value is replaced with a specified value |\n",
    "| rfind() |\tSearches the string for a specified value and returns the last position of where it  was found |\n",
    "| rindex() |\tSearches the string for a specified value and returns the last position of where it was found |\n",
    "| rjust() |\tReturns a right justified version of the string |\n",
    "| rpartition() |\tReturns a tuple where the string is parted into three parts |\n",
    "| rsplit() |\tSplits the string at the specified separator, and returns a list |\n",
    "| rstrip() |\tReturns a right trim version of the string |\n",
    "| split() |\tSplits the string at the specified separator, and returns a list |\n",
    "| splitlines() |\tSplits the string at line breaks and returns a list |\n",
    "| startswith() |\tReturns true if the string starts with the specified value |\n",
    "| strip() |\tReturns a trimmed version of the string |\n",
    "| swapcase() |\tSwaps cases, lower case becomes upper case and vice versa |\n",
    "| title() |\tConverts the first character of each word to upper case |\n",
    "| translate() |\tReturns a translated string |\n",
    "| upper() |\tConverts a string into upper case |\n",
    "| zfill() |\tFills the string with a specified number of 0 values at the beginning |"
   ]
  }
 ],
 "metadata": {
  "kernelspec": {
   "display_name": "Python 3",
   "language": "python",
   "name": "python3"
  },
  "language_info": {
   "codemirror_mode": {
    "name": "ipython",
    "version": 3
   },
   "file_extension": ".py",
   "mimetype": "text/x-python",
   "name": "python",
   "nbconvert_exporter": "python",
   "pygments_lexer": "ipython3",
   "version": "3.10.7"
  }
 },
 "nbformat": 4,
 "nbformat_minor": 2
}
