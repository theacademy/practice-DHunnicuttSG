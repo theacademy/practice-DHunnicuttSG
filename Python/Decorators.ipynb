{
 "cells": [
  {
   "cell_type": "markdown",
   "metadata": {},
   "source": [
    "Python decorators are a powerful and useful tool that allows you to modify the behavior of a function or class. They provide a simple syntax for calling higher-order functions. Here’s a breakdown of what decorators are and how they work:\n",
    "\n",
    "What is a Decorator?\n",
    "A decorator is a function that takes another function as an argument and extends its behavior without explicitly modifying it. This is achieved by defining a wrapper function inside the decorator that executes code before and after calling the original function12.\n",
    "\n",
    "Key Concepts:\n",
    "First-Class Functions: In Python, functions are first-class objects, meaning they can be passed around and used as arguments just like any other object (string, int, float, etc.)2.\n",
    "Inner Functions: You can define functions inside other functions. The inner function can access variables from the enclosing scope1.\n",
    "Higher-Order Functions: A function that takes another function as an argument or returns a function as a result2.\n",
    "Basic Syntax:\n",
    "Here’s a simple example of a decorator:\n",
    "\n",
    "Python\n",
    "\n",
    "def my_decorator(func):\n",
    "    def wrapper():\n",
    "        print(\"Something is happening before the function is called.\")\n",
    "        func()\n",
    "        print(\"Something is happening after the function is called.\")\n",
    "    return wrapper\n",
    "\n",
    "@my_decorator\n",
    "def say_hello():\n",
    "    print(\"Hello!\")\n",
    "\n",
    "say_hello()\n",
    "AI-generated code. Review and use carefully. More info on FAQ.\n",
    "Explanation:\n",
    "Define the Decorator: my_decorator is defined to take a function func as an argument.\n",
    "Wrapper Function: Inside my_decorator, a wrapper function is defined that adds some behavior before and after calling func.\n",
    "Return the Wrapper: The wrapper function is returned from my_decorator.\n",
    "Apply the Decorator: The @my_decorator syntax is used to apply the decorator to the say_hello function. This is equivalent to say_hello = my_decorator(say_hello)12.\n",
    "Practical Use Cases:\n",
    "Logging: Automatically log function calls.\n",
    "Authentication: Check user permissions before executing a function.\n",
    "Timing: Measure the execution time of functions.\n",
    "Caching: Store results of expensive function calls and reuse them when the same inputs occur again12.\n",
    "Example with Arguments:\n",
    "Decorators can also handle functions with arguments:\n",
    "\n",
    "Python\n",
    "\n",
    "def my_decorator(func):\n",
    "    def wrapper(*args, **kwargs):\n",
    "        print(\"Something is happening before the function is called.\")\n",
    "        result = func(*args, **kwargs)\n",
    "        print(\"Something is happening after the function is called.\")\n",
    "        return result\n",
    "    return wrapper\n",
    "\n",
    "@my_decorator\n",
    "def greet(name):\n",
    "    print(f\"Hello, {name}!\")\n",
    "\n",
    "greet(\"Alice\")"
   ]
  },
  {
   "cell_type": "code",
   "execution_count": 5,
   "metadata": {},
   "outputs": [
    {
     "data": {
      "text/plain": [
       "\"Hi, I'm Elias\""
      ]
     },
     "execution_count": 5,
     "metadata": {},
     "output_type": "execute_result"
    }
   ],
   "source": [
    "def parent(num):\n",
    "    def first_child():\n",
    "        return \"Hi, I'm Elias\"\n",
    "\n",
    "    def second_child():\n",
    "        return \"Call me Ester\"\n",
    "\n",
    "    if num == 1:\n",
    "        return first_child\n",
    "    else:\n",
    "        return second_child\n",
    "\n",
    "myfunc = parent(1)\n",
    "myfunc()"
   ]
  },
  {
   "cell_type": "code",
   "execution_count": 8,
   "metadata": {},
   "outputs": [
    {
     "name": "stdout",
     "output_type": "stream",
     "text": [
      "Something is happening before the function is called.\n",
      "Whee!\n",
      "Something is happening after the function is called.\n",
      "None\n"
     ]
    }
   ],
   "source": [
    "def decorator(func):\n",
    "    def wrapper():\n",
    "        print(\"Something is happening before the function is called.\")\n",
    "        func()\n",
    "        print(\"Something is happening after the function is called.\")\n",
    "    return wrapper\n",
    "\n",
    "def say_whee():\n",
    "    print(\"Whee!\")\n",
    "\n",
    "say_whee = decorator(say_whee)\n",
    "print(say_whee())"
   ]
  },
  {
   "cell_type": "code",
   "execution_count": 21,
   "metadata": {},
   "outputs": [
    {
     "name": "stdout",
     "output_type": "stream",
     "text": [
      "1725889690.4376621\n",
      "Hello!\n",
      "1725889691.4390285\n",
      "Time taken: 1.00\n",
      "WOW!\n"
     ]
    }
   ],
   "source": [
    "from typing import Callable\n",
    "import time\n",
    "def timer_decorator(func: Callable) -> Callable:\n",
    "    def wrapper(*args, **kwargs):\n",
    "        start_time = time.time()\n",
    "        print(start_time)\n",
    "        time.sleep(1)\n",
    "        res = func(*args, **kwargs)\n",
    "        print(time.time())\n",
    "        print(f\"Time taken: {time.time()-start_time:.2f}\")\n",
    "        return res\n",
    "    return wrapper\n",
    "\n",
    "@timer_decorator\n",
    "def sayHello() -> str:\n",
    "    print(\"Hello!\")\n",
    "    return \"WOW!\"\n",
    "\n",
    "def succ(num: int) -> int:\n",
    "    return num + 1\n",
    "\n",
    "# sayHello = timer_decorator(sayHello)\n",
    "succ = timer_decorator(succ)\n",
    "print(sayHello())"
   ]
  }
 ],
 "metadata": {
  "kernelspec": {
   "display_name": "Python 3",
   "language": "python",
   "name": "python3"
  },
  "language_info": {
   "codemirror_mode": {
    "name": "ipython",
    "version": 3
   },
   "file_extension": ".py",
   "mimetype": "text/x-python",
   "name": "python",
   "nbconvert_exporter": "python",
   "pygments_lexer": "ipython3",
   "version": "3.10.7"
  }
 },
 "nbformat": 4,
 "nbformat_minor": 2
}
