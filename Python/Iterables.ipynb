{
 "cells": [
  {
   "cell_type": "markdown",
   "metadata": {},
   "source": [
    "## Iterables\n",
    "\n",
    "- An iterator is an object that contains a countable number of values.\n",
    "- An iterator is an object that can be iterated, meaning that you can traverse through the values of that object.\n",
    "\n",
    "- In Python, an iterator is an object which implements the iterator protocol, which consist of the methods __iter__() and __next__().\n"
   ]
  },
  {
   "cell_type": "code",
   "execution_count": null,
   "metadata": {},
   "outputs": [],
   "source": [
    "# List, tuples, dicts, and sets are all iterable. They are containers in which you can get an iterator.\n",
    "# All these objects have an iter() method which is used to get an iterator.\n",
    "# The iterator moves through the tuple on each print, etc.  \n",
    "\n",
    "myTuple = (\"apple\", \"banana\", \"cherry\")\n",
    "myIt = iter(myTuple)\n",
    "\n",
    "# print(next(myIt))\n",
    "# print(next(myIt))\n",
    "# print(next(myIt))\n",
    "\n",
    "#better way:\n",
    "for x in myTuple:\n",
    "    print(next(myIt))\n"
   ]
  },
  {
   "cell_type": "code",
   "execution_count": null,
   "metadata": {},
   "outputs": [],
   "source": [
    "myStr = \"This is a test\"\n",
    "myIt = iter(myStr)\n",
    "\n",
    "for x in myStr:\n",
    "    print(next(myIt), end=\"\" )  # prints on one line not multiple"
   ]
  },
  {
   "cell_type": "code",
   "execution_count": null,
   "metadata": {},
   "outputs": [],
   "source": [
    "myTuple = (\"apple\", \"banana\", \"cherry\")\n",
    "# myIt = iter(myTuple)\n",
    "\n",
    "for x in myTuple:\n",
    "    print(x, end=\" \")"
   ]
  },
  {
   "cell_type": "markdown",
   "metadata": {},
   "source": [
    "### Create an iterator class\n",
    "\n",
    "- To create an object/class as an iterator you have to implement the methods __iter__() and __next__() to your object.\n",
    "- All classes have a function called __init__(), which allows you to do some initializing when the object is being created.\n",
    "- The __iter__() method acts similar, you can do operations (initializing etc.), but must always return the iterator object itself.\n",
    "- The __next__() method also allows you to do operations, and must return the next item in the sequence."
   ]
  },
  {
   "cell_type": "code",
   "execution_count": null,
   "metadata": {},
   "outputs": [],
   "source": [
    "class MyNums:\n",
    "    def __iter__(self):\n",
    "        self.a = 1\n",
    "        return self\n",
    "    \n",
    "    def __next__(self):\n",
    "        x = self.a\n",
    "        self.a += 1\n",
    "        return x\n",
    "myClass = MyNums()\n",
    "myIter = iter(myClass)\n",
    "\n",
    "print(next(myIter))\n",
    "print(next(myIter))\n",
    "print(next(myIter))\n",
    "print(next(myIter))\n",
    "print(next(myIter))\n",
    "print(next(myIter))\n",
    "print(next(myIter))\n",
    "print(next(myIter))"
   ]
  },
  {
   "cell_type": "markdown",
   "metadata": {},
   "source": [
    "## StopIteration\n",
    "- The example above would continue forever if you had enough next() statements, or if it was used in a for loop.\n",
    "- To prevent the iteration from going on forever, we can use the StopIteration statement.\n",
    "- In the __next__() method, we can add a terminating condition to raise an error if the iteration is done a specified number of times:"
   ]
  },
  {
   "cell_type": "code",
   "execution_count": null,
   "metadata": {},
   "outputs": [],
   "source": [
    "class MyNums:\n",
    "    def __iter__(self):\n",
    "        self.a = 1\n",
    "        return self\n",
    "    \n",
    "    def __next__(self):\n",
    "        if self.a <= 10:\n",
    "            x = self.a\n",
    "            self.a += 1\n",
    "            return x\n",
    "        else:\n",
    "            raise StopIteration\n",
    "    \n",
    "myClass = MyNums()\n",
    "myIter = iter(myClass)\n",
    "\n",
    "for x in myIter:\n",
    "    print(x)"
   ]
  },
  {
   "cell_type": "code",
   "execution_count": null,
   "metadata": {},
   "outputs": [],
   "source": [
    "# lets add a class and iterate through the attributes of that class\n",
    "\n",
    "class Contact:\n",
    "\n",
    "    def __init__(self, fName, lName, company, email, phone):\n",
    "        self.fName = fName\n",
    "        self.lName = lName\n",
    "        self.company = company\n",
    "        self.email = email\n",
    "        self.phone = phone\n",
    "        self._attributes = [\n",
    "            self.fName, \n",
    "            self.lName, \n",
    "            self.company, \n",
    "            self.email, \n",
    "            self.phone \n",
    "        ]\n",
    "        self._index = 0\n",
    "    \n",
    "    def __iter__(self):\n",
    "        self._index = 0\n",
    "        return self\n",
    "    \n",
    "    def __next__(self):\n",
    "        if self._index < len(self._attributes):\n",
    "            result = self._attributes[self._index]\n",
    "            self._index += 1\n",
    "            return result\n",
    "        else:\n",
    "            raise StopIteration\n",
    "\n",
    "contact1 = Contact(\"William\", \"Gates\", \"Microsoft\", \"Bill@ms.com\", \"123-456-7890\")\n",
    "contact2 = Contact(\"Ada\", \"Lovelace\", \"Babbage Industries\", \"Ada@BabbageIndustries.com\", \"123-456-7890\")\n",
    "contact3 = Contact(\"Charles\", \"Babbage\", \"Babbage Industries\", \"Charles@BabbageIndustries.com\", \"123-456-7890\")\n",
    "contact_list = [contact1, contact2, contact3]\n",
    "\n",
    "for contact in contact_list:    \n",
    "    for attribute in contact:\n",
    "        print(attribute)\n",
    "    print(\"----------\")"
   ]
  },
  {
   "cell_type": "code",
   "execution_count": 13,
   "metadata": {},
   "outputs": [
    {
     "name": "stdout",
     "output_type": "stream",
     "text": [
      "William\n",
      "Gates\n",
      "Microsoft\n",
      "Bill@ms.com\n",
      "123-456-7890\n",
      "----------\n",
      "Ada\n",
      "Lovelace\n",
      "Babbage Industries\n",
      "Ada@BabbageIndustries.com\n",
      "123-456-7890\n",
      "----------\n",
      "Charles\n",
      "Babbage\n",
      "Babbage Industries\n",
      "Charles@BabbageIndustries.com\n",
      "123-456-7890\n",
      "----------\n"
     ]
    }
   ],
   "source": [
    "class Contact:\n",
    "\n",
    "    def __init__(self, fName, lName, company, email, phone):\n",
    "        self.fName = fName\n",
    "        self.lName = lName\n",
    "        self.company = company\n",
    "        self.email = email\n",
    "        self.phone = phone\n",
    "    \n",
    "    def __str__(self):\n",
    "        return (f\"{self.fName}\\n\"\n",
    "                f\"{self.lName}\\n\"\n",
    "                f\"{self.company}\\n\"\n",
    "                f\"{self.email}\\n\"\n",
    "                f\"{self.phone}\")\n",
    "\n",
    "contact_list = []\n",
    "contact1 = Contact(\"William\", \"Gates\", \"Microsoft\", \"Bill@ms.com\", \"123-456-7890\")\n",
    "contact2 = Contact(\"Ada\", \"Lovelace\", \"Babbage Industries\", \"Ada@BabbageIndustries.com\", \"123-456-7890\")\n",
    "contact3 = Contact(\"Charles\", \"Babbage\", \"Babbage Industries\", \"Charles@BabbageIndustries.com\", \"123-456-7890\")\n",
    "\n",
    "myContacts = [contact1, contact2, contact3]\n",
    "\n",
    "for x in myContacts:\n",
    "    print(x)\n",
    "    print(\"----------\")"
   ]
  }
 ],
 "metadata": {
  "kernelspec": {
   "display_name": "Python 3",
   "language": "python",
   "name": "python3"
  },
  "language_info": {
   "codemirror_mode": {
    "name": "ipython",
    "version": 3
   },
   "file_extension": ".py",
   "mimetype": "text/x-python",
   "name": "python",
   "nbconvert_exporter": "python",
   "pygments_lexer": "ipython3",
   "version": "3.10.7"
  }
 },
 "nbformat": 4,
 "nbformat_minor": 2
}
