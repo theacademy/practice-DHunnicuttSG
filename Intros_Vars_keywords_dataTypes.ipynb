{
 "cells": [
  {
   "cell_type": "markdown",
   "metadata": {},
   "source": [
    "## Python Basics"
   ]
  },
  {
   "cell_type": "code",
   "execution_count": null,
   "metadata": {},
   "outputs": [],
   "source": [
    "# Comments - import\n",
    "\"\"\"\n",
    "This \n",
    "is a \n",
    "multi line \n",
    "comment\n",
    "\"\"\"\n",
    "\n",
    "import sys\n",
    "import math\n",
    "\n",
    "print(sys.version)\n",
    "print(\"Hello World!\")\n",
    "\n",
    "print(math.sqrt(49))"
   ]
  },
  {
   "cell_type": "code",
   "execution_count": null,
   "metadata": {},
   "outputs": [],
   "source": [
    "# Syntax code block indenting\n",
    "\n",
    "if 5 > 2:\n",
    "    print(\"Five is greater than two!\")\n",
    "       print(\"Five is greater than two!\")"
   ]
  },
  {
   "cell_type": "code",
   "execution_count": null,
   "metadata": {},
   "outputs": [],
   "source": [
    "# Creating variables\n",
    "\n",
    "x = 5\n",
    "y = \"David\"  # Double quotes or single.  Must be consistent\n",
    "\n",
    "print(x)\n",
    "print(y)\n",
    "\n",
    "# Casting\n",
    "z = str(7)\n",
    "r = int(4.9)\n",
    "q = float(21)\n",
    "\n",
    "print(f'{type(z)} {z}')  # One way to format output\n",
    "print(r)\n",
    "print(q)\n",
    "\n",
    "# python is case sensitive\n",
    "\n",
    "b = 10\n",
    "print(B)  # B is undefined"
   ]
  },
  {
   "cell_type": "code",
   "execution_count": null,
   "metadata": {},
   "outputs": [],
   "source": [
    "# variable Names\n",
    "\n",
    "myvar = \"John\"\n",
    "my_var = \"John\"\n",
    "_my_var = \"John\"\n",
    "myVar = \"John\"\n",
    "MYVAR = \"John\"\n",
    "myvar2 = \"John\"\n",
    "\n",
    "# Camel Case\n",
    "myNameIsJohn = \"John\"\n",
    "\n",
    "# Pascal Case\n",
    "MyNameIsJohn = \"John\"\n",
    "\n",
    "# Snake Case\n",
    "my_name_is_john = \"John\"\n",
    "\n",
    "# incorrect names\n",
    "# 2This_Test\n",
    "# my-var\n",
    "# my var\n",
    "\n"
   ]
  },
  {
   "cell_type": "code",
   "execution_count": null,
   "metadata": {},
   "outputs": [],
   "source": [
    "#Assigning variables to names\n",
    "\n",
    "x, y, z = \"Orange\", \"Apple\", 'Banana'\n",
    "print(x)\n",
    "print(y)\n",
    "print(z)\n",
    "print('')\n",
    "x = y = z = 'Orange'\n",
    "print(x)\n",
    "print(y)\n",
    "print(z)\n",
    "print('')\n",
    "\n",
    "Fruits = [\"Orange\", \"Apple\", 'Banana']\n",
    "x, y, z = Fruits\n",
    "\n",
    "print(x)\n",
    "print(y)\n",
    "print(z)\n",
    "print('')\n",
    "\n",
    "print(x,y,z)\n",
    "print(x + y + z)\n"
   ]
  },
  {
   "cell_type": "code",
   "execution_count": null,
   "metadata": {},
   "outputs": [],
   "source": [
    "# Printing\n",
    "\n",
    "x = 5\n",
    "y = 'John'\n",
    "\n",
    "print(x, y)\n",
    "# print(x + y)    # fails\n",
    "print(str(x)+ y)"
   ]
  },
  {
   "cell_type": "code",
   "execution_count": null,
   "metadata": {},
   "outputs": [],
   "source": [
    "# Variables and scope\n",
    "\n",
    "x = 'cool'\n",
    "\n",
    "def myMethod():\n",
    "    x = 'awesome'\n",
    "    print('Python is ' + x)\n",
    "\n",
    "myMethod()\n",
    "print('Python is ' + x)"
   ]
  },
  {
   "cell_type": "code",
   "execution_count": null,
   "metadata": {},
   "outputs": [],
   "source": [
    "# The global keyword\n",
    "\n",
    "def myMethod():\n",
    "    global x \n",
    "    x = 'awesome'\n",
    "    print('Python is ' + x)\n",
    "\n",
    "myMethod()\n",
    "print('Python is ' + x)"
   ]
  },
  {
   "cell_type": "code",
   "execution_count": null,
   "metadata": {},
   "outputs": [],
   "source": [
    "# Data Types\n",
    "\n",
    "#x = \"Hello World\"                   \t        #str\t\n",
    "#x = 20\t                                        #int\t\n",
    "#x = 20.5\t                                    #float\t\n",
    "#x = 1j\t                                        #complex\t\n",
    "#x = [\"apple\", \"banana\", \"cherry\"]\t            #list\t\n",
    "#x = (\"apple\", \"banana\", \"cherry\")\t            #tuple\t\n",
    "#x = range(6)\t                                #range\t\n",
    "#x = {\"name\" : \"John\", \"age\" : 36}\t            #dict\t\n",
    "#x = {\"apple\", \"banana\", \"cherry\"}\t            #set\t\n",
    "#x = frozenset({\"apple\", \"banana\", \"cherry\"})\t#frozenset\t\n",
    "#x = True\t                                    #bool\ttry bool(5) and bool(not(5))\n",
    "#x = memoryview(bytes(5))\t                    #memoryview\t\n",
    "#x = None\t                                    #NoneType\n",
    "\n",
    "print(x)\n"
   ]
  }
 ],
 "metadata": {
  "kernelspec": {
   "display_name": "Python 3",
   "language": "python",
   "name": "python3"
  },
  "language_info": {
   "codemirror_mode": {
    "name": "ipython",
    "version": 3
   },
   "file_extension": ".py",
   "mimetype": "text/x-python",
   "name": "python",
   "nbconvert_exporter": "python",
   "pygments_lexer": "ipython3",
   "version": "3.10.7"
  }
 },
 "nbformat": 4,
 "nbformat_minor": 2
}
