{
 "cells": [
  {
   "cell_type": "markdown",
   "metadata": {},
   "source": [
    "## Modules"
   ]
  },
  {
   "cell_type": "markdown",
   "metadata": {},
   "source": [
    "A module is the same as a code library. Simply put, a file containing a set of functions\n",
    "you want to include in your application.\n",
    "\n",
    "- To create a module save a set of functions in a file with the extension of .py\n",
    "- You can name the file whatever you like but it must have the extension of .py"
   ]
  },
  {
   "cell_type": "markdown",
   "metadata": {},
   "source": [
    "### Copy this code into a file called MyMod.py\n",
    "```\n",
    "def greeting(x):\n",
    "    print(\"Hello, {x}\")\n",
    "\n",
    "def greeting():\n",
    "    print(\"Hello!\")\n",
    "``` "
   ]
  },
  {
   "cell_type": "code",
   "execution_count": 2,
   "metadata": {},
   "outputs": [
    {
     "name": "stdout",
     "output_type": "stream",
     "text": [
      "Hello, {x}\n",
      "Hello, {x}\n"
     ]
    }
   ],
   "source": [
    "import MyMod\n",
    "\n",
    "x = MyMod\n",
    "x.greetings()\n",
    "x.greetings(\"Joe\")"
   ]
  }
 ],
 "metadata": {
  "kernelspec": {
   "display_name": "Python 3",
   "language": "python",
   "name": "python3"
  },
  "language_info": {
   "codemirror_mode": {
    "name": "ipython",
    "version": 3
   },
   "file_extension": ".py",
   "mimetype": "text/x-python",
   "name": "python",
   "nbconvert_exporter": "python",
   "pygments_lexer": "ipython3",
   "version": "3.10.7"
  }
 },
 "nbformat": 4,
 "nbformat_minor": 2
}
